{
 "cells": [
  {
   "cell_type": "code",
   "execution_count": 2,
   "id": "b15e8795",
   "metadata": {},
   "outputs": [],
   "source": [
    "import pandas as pd\n",
    "import numpy as np\n",
    "import matplotlib.pyplot as plt\n",
    "from sklearn import preprocessing\n",
    "from sklearn.linear_model import LogisticRegression"
   ]
  },
  {
   "cell_type": "code",
   "execution_count": 3,
   "id": "37636980",
   "metadata": {},
   "outputs": [],
   "source": [
    "# load dataset\n",
    "train = pd.read_csv('train.csv')\n",
    "X_test = pd.read_csv('test.csv')"
   ]
  },
  {
   "cell_type": "code",
   "execution_count": 4,
   "id": "aba65439",
   "metadata": {},
   "outputs": [],
   "source": [
    "# preprocessing stage\n",
    "X_train_columns = train.columns.drop(['label'])\n",
    "X_train = train[X_train_columns]\n",
    "y_train = train['label']"
   ]
  },
  {
   "cell_type": "code",
   "execution_count": 5,
   "id": "1b8b4354",
   "metadata": {},
   "outputs": [],
   "source": [
    "# scaling stage\n",
    "train_scaler = preprocessing.StandardScaler().fit(X_train)\n",
    "X_train_scaled = train_scaler.transform(X_train)\n",
    "test_scaler = preprocessing.StandardScaler().fit(X_test)\n",
    "X_test_scaled = test_scaler.transform(X_test)"
   ]
  },
  {
   "cell_type": "code",
   "execution_count": 6,
   "id": "2d5451ba",
   "metadata": {},
   "outputs": [
    {
     "name": "stderr",
     "output_type": "stream",
     "text": [
      "c:\\users\\imani\\appdata\\local\\programs\\python\\python38\\lib\\site-packages\\sklearn\\linear_model\\_logistic.py:814: ConvergenceWarning: lbfgs failed to converge (status=1):\n",
      "STOP: TOTAL NO. of ITERATIONS REACHED LIMIT.\n",
      "\n",
      "Increase the number of iterations (max_iter) or scale the data as shown in:\n",
      "    https://scikit-learn.org/stable/modules/preprocessing.html\n",
      "Please also refer to the documentation for alternative solver options:\n",
      "    https://scikit-learn.org/stable/modules/linear_model.html#logistic-regression\n",
      "  n_iter_i = _check_optimize_result(\n"
     ]
    },
    {
     "name": "stdout",
     "output_type": "stream",
     "text": [
      "0.9507142857142857\n"
     ]
    }
   ],
   "source": [
    "# without scaling => 0.93 and after scaling => 0.95\n",
    "clf = LogisticRegression(random_state=0).fit(X_train_scaled, y_train)\n",
    "print(clf.score(X_train_scaled, y_train))\n",
    "# print(clf.predict_proba(X_test))\n",
    "predicted = clf.predict(X_test_scaled)"
   ]
  },
  {
   "cell_type": "code",
   "execution_count": 7,
   "id": "bc435d05",
   "metadata": {},
   "outputs": [
    {
     "data": {
      "image/png": "[encoded data removed]",
      "text/plain": [
       "<Figure size 432x288 with 6 Axes>"
      ]
     },
     "metadata": {
      "needs_background": "light"
     },
     "output_type": "display_data"
    }
   ],
   "source": [
    "# X_train_numpy = X_train.to_numpy().reshape(42000, 28, 28)\n",
    "# y_train_numpy = y_train.to_numpy().reshape(42000, 1)\n",
    "X_test_numpy = X_test.to_numpy().reshape(28000, 28, 28)\n",
    "# fig = plt.figure()\n",
    "for i in range(6):\n",
    "    plt.subplot(2, 3, i+1)\n",
    "    plt.tight_layout()\n",
    "    plt.imshow(X_test_numpy[i], cmap='gray')\n",
    "    plt.title(f'Predicted Digit: {predicted[i]}')"
   ]
  },
  {
   "cell_type": "code",
   "execution_count": null,
   "id": "9c8daa5f",
   "metadata": {},
   "outputs": [],
   "source": []
  }
 ],
 "metadata": {
  "kernelspec": {
   "display_name": "Python 3 (ipykernel)",
   "language": "python",
   "name": "python3"
  },
  "language_info": {
   "codemirror_mode": {
    "name": "ipython",
    "version": 3
   },
   "file_extension": ".py",
   "mimetype": "text/x-python",
   "name": "python",
   "nbconvert_exporter": "python",
   "pygments_lexer": "ipython3",
   "version": "3.8.9"
  }
 },
 "nbformat": 4,
 "nbformat_minor": 5
}
