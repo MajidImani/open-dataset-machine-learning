{
 "cells": [
  {
   "cell_type": "code",
   "execution_count": 1,
   "id": "9146ab82",
   "metadata": {},
   "outputs": [],
   "source": [
    "import pandas as pd\n",
    "import numpy as np\n",
    "import matplotlib.pyplot as plt\n",
    "from sklearn import preprocessing\n",
    "from sklearn.neural_network import MLPClassifier"
   ]
  },
  {
   "cell_type": "code",
   "execution_count": 2,
   "id": "4000caac",
   "metadata": {},
   "outputs": [],
   "source": [
    "# load dataset\n",
    "train = pd.read_csv('train.csv')\n",
    "X_test = pd.read_csv('test.csv')"
   ]
  },
  {
   "cell_type": "code",
   "execution_count": 3,
   "id": "bdb4db7e",
   "metadata": {},
   "outputs": [],
   "source": [
    "# preprocessing stage\n",
    "X_train_columns = train.columns.drop(['label'])\n",
    "X_train = train[X_train_columns]\n",
    "y_train = train['label']"
   ]
  },
  {
   "cell_type": "code",
   "execution_count": 4,
   "id": "c56ca713",
   "metadata": {},
   "outputs": [],
   "source": [
    "# scaling stage\n",
    "train_scaler = preprocessing.StandardScaler().fit(X_train)\n",
    "X_train_scaled = train_scaler.transform(X_train)\n",
    "test_scaler = preprocessing.StandardScaler().fit(X_test)\n",
    "X_test_scaled = test_scaler.transform(X_test)"
   ]
  },
  {
   "cell_type": "code",
   "execution_count": 5,
   "id": "0127f317",
   "metadata": {},
   "outputs": [],
   "source": [
    "## convert to numpy array for without scaled data=> suitale for sklearn\n",
    "# X_train_as_np_format = X_train_scaled.values\n",
    "# y_train__as_np_format = y_train.to_numpy()\n",
    "# X_test_as_np_format = X_test_scaled.values\n",
    "X_train_as_np_format = X_train_scaled\n",
    "y_train__as_np_format = y_train.to_numpy()\n",
    "X_test_as_np_format = X_test_scaled"
   ]
  },
  {
   "cell_type": "code",
   "execution_count": 23,
   "id": "0ab1d8a9",
   "metadata": {},
   "outputs": [],
   "source": [
    "# mlp_clf = MLPClassifier(hidden_layer_sizes=(15,), activation='logistic', alpha=1e-4,\n",
    "#                         solver='sgd', tol=1e-4, random_state=1,\n",
    "#                         learning_rate_init=.1, verbose=True)\n",
    "\n",
    "mlp_clf = MLPClassifier(hidden_layer_sizes=(15, 5,), solver='adam', max_iter=100,\n",
    "                        activation='relu', random_state=1, verbose=True)"
   ]
  },
  {
   "cell_type": "code",
   "execution_count": 24,
   "id": "15439700",
   "metadata": {},
   "outputs": [
    {
     "name": "stdout",
     "output_type": "stream",
     "text": [
      "Iteration 1, loss = 1.09421335\n",
      "Iteration 2, loss = 0.44865942\n",
      "Iteration 3, loss = 0.33458821\n",
      "Iteration 4, loss = 0.28895586\n",
      "Iteration 5, loss = 0.26144693\n",
      "Iteration 6, loss = 0.24297797\n",
      "Iteration 7, loss = 0.22754673\n",
      "Iteration 8, loss = 0.21577761\n",
      "Iteration 9, loss = 0.20547500\n",
      "Iteration 10, loss = 0.19728851\n",
      "Iteration 11, loss = 0.18802881\n",
      "Iteration 12, loss = 0.18149390\n",
      "Iteration 13, loss = 0.17531773\n",
      "Iteration 14, loss = 0.16918816\n",
      "Iteration 15, loss = 0.16486899\n",
      "Iteration 16, loss = 0.15968869\n",
      "Iteration 17, loss = 0.15581434\n",
      "Iteration 18, loss = 0.15181737\n",
      "Iteration 19, loss = 0.14856187\n",
      "Iteration 20, loss = 0.14526143\n",
      "Iteration 21, loss = 0.14175220\n",
      "Iteration 22, loss = 0.13857599\n",
      "Iteration 23, loss = 0.13569700\n",
      "Iteration 24, loss = 0.13265093\n",
      "Iteration 25, loss = 0.13017979\n",
      "Iteration 26, loss = 0.12754951\n",
      "Iteration 27, loss = 0.12594823\n",
      "Iteration 28, loss = 0.12373698\n",
      "Iteration 29, loss = 0.12172466\n",
      "Iteration 30, loss = 0.12010351\n",
      "Iteration 31, loss = 0.11886571\n",
      "Iteration 32, loss = 0.11652343\n",
      "Iteration 33, loss = 0.11448479\n",
      "Iteration 34, loss = 0.11236782\n",
      "Iteration 35, loss = 0.11082812\n",
      "Iteration 36, loss = 0.10931560\n",
      "Iteration 37, loss = 0.10816714\n",
      "Iteration 38, loss = 0.10650027\n",
      "Iteration 39, loss = 0.10518059\n",
      "Iteration 40, loss = 0.10461465\n",
      "Iteration 41, loss = 0.10404713\n",
      "Iteration 42, loss = 0.10124186\n",
      "Iteration 43, loss = 0.10089685\n",
      "Iteration 44, loss = 0.09933301\n",
      "Iteration 45, loss = 0.09744769\n",
      "Iteration 46, loss = 0.09725979\n",
      "Iteration 47, loss = 0.09626646\n",
      "Iteration 48, loss = 0.09487002\n",
      "Iteration 49, loss = 0.09521031\n",
      "Iteration 50, loss = 0.09464675\n",
      "Iteration 51, loss = 0.09164163\n",
      "Iteration 52, loss = 0.09008715\n",
      "Iteration 53, loss = 0.08976022\n",
      "Iteration 54, loss = 0.08796025\n",
      "Iteration 55, loss = 0.08719539\n",
      "Iteration 56, loss = 0.08611685\n",
      "Iteration 57, loss = 0.08578376\n",
      "Iteration 58, loss = 0.08486308\n",
      "Iteration 59, loss = 0.08478211\n",
      "Iteration 60, loss = 0.08270956\n",
      "Iteration 61, loss = 0.08225945\n",
      "Iteration 62, loss = 0.08136405\n",
      "Iteration 63, loss = 0.08079808\n",
      "Iteration 64, loss = 0.07956025\n",
      "Iteration 65, loss = 0.07924083\n",
      "Iteration 66, loss = 0.07828326\n",
      "Iteration 67, loss = 0.07720555\n",
      "Iteration 68, loss = 0.07793085\n",
      "Iteration 69, loss = 0.07721142\n",
      "Iteration 70, loss = 0.07561418\n",
      "Iteration 71, loss = 0.07493189\n",
      "Iteration 72, loss = 0.07432708\n",
      "Iteration 73, loss = 0.07314193\n",
      "Iteration 74, loss = 0.07294849\n",
      "Iteration 75, loss = 0.07158052\n",
      "Iteration 76, loss = 0.07310504\n",
      "Iteration 77, loss = 0.07102745\n",
      "Iteration 78, loss = 0.07010753\n",
      "Iteration 79, loss = 0.06955618\n",
      "Iteration 80, loss = 0.06861452\n",
      "Iteration 81, loss = 0.06936332\n",
      "Iteration 82, loss = 0.06777144\n",
      "Iteration 83, loss = 0.06672238\n",
      "Iteration 84, loss = 0.06551958\n",
      "Iteration 85, loss = 0.06623572\n",
      "Iteration 86, loss = 0.06449309\n",
      "Iteration 87, loss = 0.06416875\n",
      "Iteration 88, loss = 0.06285285\n",
      "Iteration 89, loss = 0.06403811\n",
      "Iteration 90, loss = 0.06303563\n",
      "Iteration 91, loss = 0.06197870\n",
      "Iteration 92, loss = 0.06143624\n",
      "Iteration 93, loss = 0.06112605\n",
      "Iteration 94, loss = 0.06241284\n",
      "Iteration 95, loss = 0.06284526\n",
      "Iteration 96, loss = 0.06101836\n",
      "Iteration 97, loss = 0.05849563\n",
      "Iteration 98, loss = 0.05831366\n",
      "Iteration 99, loss = 0.05813399\n",
      "Iteration 100, loss = 0.05799517\n",
      "0.9858571428571429\n"
     ]
    },
    {
     "name": "stderr",
     "output_type": "stream",
     "text": [
      "c:\\users\\imani\\appdata\\local\\programs\\python\\python38\\lib\\site-packages\\sklearn\\neural_network\\_multilayer_perceptron.py:692: ConvergenceWarning: Stochastic Optimizer: Maximum iterations (100) reached and the optimization hasn't converged yet.\n",
      "  warnings.warn(\n"
     ]
    }
   ],
   "source": [
    "mlp_clf.fit(X_train_as_np_format, y_train__as_np_format)\n",
    "print(mlp_clf.score(X_train_as_np_format, y_train__as_np_format))"
   ]
  },
  {
   "cell_type": "code",
   "execution_count": 25,
   "id": "b14e287f",
   "metadata": {},
   "outputs": [],
   "source": [
    "predicted = mlp_clf.predict(X_test_as_np_format)"
   ]
  },
  {
   "cell_type": "code",
   "execution_count": 26,
   "id": "603ed401",
   "metadata": {},
   "outputs": [
    {
     "data": {
      "image/png": "[encoded data removed]",
      "text/plain": [
       "<Figure size 432x288 with 6 Axes>"
      ]
     },
     "metadata": {
      "needs_background": "light"
     },
     "output_type": "display_data"
    }
   ],
   "source": [
    "X_test_numpy = X_test.to_numpy().reshape(28000, 28, 28)\n",
    "# fig = plt.figure()\n",
    "for i in range(6):\n",
    "    plt.subplot(2, 3, i+1)\n",
    "    plt.tight_layout()\n",
    "    plt.imshow(X_test_numpy[i], cmap='gray')\n",
    "    plt.title(f'Predicted Digit: {predicted[i]}')\n",
    "plt.show()\n"
   ]
  },
  {
   "cell_type": "code",
   "execution_count": null,
   "id": "548fc676",
   "metadata": {},
   "outputs": [],
   "source": []
  }
 ],
 "metadata": {
  "kernelspec": {
   "display_name": "Python 3 (ipykernel)",
   "language": "python",
   "name": "python3"
  },
  "language_info": {
   "codemirror_mode": {
    "name": "ipython",
    "version": 3
   },
   "file_extension": ".py",
   "mimetype": "text/x-python",
   "name": "python",
   "nbconvert_exporter": "python",
   "pygments_lexer": "ipython3",
   "version": "3.8.9"
  }
 },
 "nbformat": 4,
 "nbformat_minor": 5
}
